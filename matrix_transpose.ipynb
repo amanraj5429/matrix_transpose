{
  "nbformat": 4,
  "nbformat_minor": 0,
  "metadata": {
    "colab": {
      "name": "matrix_transpose.ipynb",
      "provenance": []
    },
    "kernelspec": {
      "name": "python3",
      "display_name": "Python 3"
    }
  },
  "cells": [
    {
      "cell_type": "code",
      "metadata": {
        "colab": {
          "base_uri": "https://localhost:8080/"
        },
        "id": "2za7WtjB6aH3",
        "outputId": "8b8a97e8-f3be-4714-dfee-89651fc4b7da"
      },
      "source": [
        "# Program to transpose a matrix using a nested loop\n",
        "\n",
        "X = [[12,7],\n",
        "    [4 ,5]]\n",
        "\n",
        "result = [[0,0],\n",
        "         [0,0]]\n",
        "\n",
        "# iterate through rows\n",
        "for i in range(len(X)):\n",
        "   # iterate through columns\n",
        "   for j in range(len(X[0])):\n",
        "       result[j][i] = X[i][j]\n",
        "\n",
        "for r in result:\n",
        "   print(r)"
      ],
      "execution_count": 6,
      "outputs": [
        {
          "output_type": "stream",
          "text": [
            "[12, 4]\n",
            "[7, 5]\n"
          ],
          "name": "stdout"
        }
      ]
    }
  ]
}